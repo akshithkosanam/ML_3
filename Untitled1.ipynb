{
 "cells": [
  {
   "cell_type": "code",
   "execution_count": 1,
   "id": "c4238fec-c376-4ed8-bfb2-534c12e78a75",
   "metadata": {},
   "outputs": [],
   "source": [
    "import pandas as pd\n",
    "file_name= r\"testing (2).xlsx\"\n",
    "file =   r\"training (2).xlsx\"\n",
    "dtest = pd.read_excel(file_name)\n",
    "dtrain = pd.read_excel(file_name)"
   ]
  },
  {
   "cell_type": "code",
   "execution_count": null,
   "id": "59548970-dc49-476c-863e-d7b8178a9ae0",
   "metadata": {},
   "outputs": [],
   "source": []
  }
 ],
 "metadata": {
  "kernelspec": {
   "display_name": "Python 3 (ipykernel)",
   "language": "python",
   "name": "python3"
  },
  "language_info": {
   "codemirror_mode": {
    "name": "ipython",
    "version": 3
   },
   "file_extension": ".py",
   "mimetype": "text/x-python",
   "name": "python",
   "nbconvert_exporter": "python",
   "pygments_lexer": "ipython3",
   "version": "3.11.4"
  }
 },
 "nbformat": 4,
 "nbformat_minor": 5
}
